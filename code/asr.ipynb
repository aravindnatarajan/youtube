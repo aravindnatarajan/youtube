{
 "cells": [
  {
   "cell_type": "code",
   "execution_count": 1,
   "metadata": {
    "collapsed": true
   },
   "outputs": [],
   "source": [
    "import speech_recognition as sr\n",
    "import os\n",
    "r = sr.Recognizer()"
   ]
  },
  {
   "cell_type": "code",
   "execution_count": 2,
   "metadata": {
    "collapsed": true
   },
   "outputs": [],
   "source": [
    "def translate(folder,ctr):\n",
    "\n",
    "  files = [v for v in os.listdir(folder) if v[0] != \".\"]\n",
    "  for f in files:\n",
    "    with sr.AudioFile(folder+f) as source:\n",
    "      audio = r.record(source)      \n",
    "    try:  \n",
    "      s = r.recognize_google(audio)\n",
    "    except:\n",
    "      print \"skipping\"\n",
    "\n",
    "    outf = open(\"f\"+str(ctr),\"w\")\n",
    "    outf.write(s)\n",
    "    outf.close()\n",
    "    print ctr,s  \n",
    "    ctr += 1"
   ]
  },
  {
   "cell_type": "code",
   "execution_count": 3,
   "metadata": {
    "collapsed": false
   },
   "outputs": [
    {
     "name": "stdout",
     "output_type": "stream",
     "text": [
      "1 6 biggest cricket fight between India and Pakistan on drug company vs Mark hunt\n",
      "2 India vs Pak 2006 ODI series just cannot get a CD out of action it was boring I can't go to compete in two\n",
      "3 68 I'm going to run into a few days and he was running between the wickets and things got heated and a few\n",
      "4 Spirit Xtreme\n",
      "5 2010 W has been known for losing his temper and breakups and after the incident\n",
      "6 Define himself against some confrontation with Pakistan keeper\n",
      "7 you have offered was harbhajan Singh Asia Cup 2010\n",
      "8 the hydrogen bond India the Asia Cup game against Pakistan and Afghanistan and how would like to be giving her butt and boobs and maintained\n",
      "9 what's up for the master cleanse got nothing better to do\n",
      "10 Cody I'm at the bus or he was just turnovers against Pakistan Captain Majid Khan\n",
      "11 Republic kept his line Ave from Bowling practice for couple days and it was his job\n",
      "12 look up 1992 match was batting for Pakistan against India in World Cup game and couldn't believe the Indian people kept saying stuff\n",
      "13 behind the Wicket like 2 feet away from java that got me about Andrea and he stopped the bullet and went off tomorrow so I was ready he born\n",
      "14 Little Kim the almighty lives up here. I miss you have versus Bangladesh president cup 99\n",
      "15 before the most prominent incident overconfidence happened in Pakistan vs India quarter final game of World Cup 1996\n",
      "16 song with chasing a big total and to hear that I'm very close control but then said he lost his concentration and head pressure for a couple of boundaries and\n",
      "17 team that even hitting him again only to get his medicine. Show me the free bus is going to come\n"
     ]
    }
   ],
   "source": [
    "translate(\"/Users/Arvi/youtube/sports/audio/\",1)"
   ]
  },
  {
   "cell_type": "code",
   "execution_count": 4,
   "metadata": {
    "collapsed": false
   },
   "outputs": [
    {
     "name": "stdout",
     "output_type": "stream",
     "text": [
      "18 so time is tight and I'm not calling for take-out I'm Tracy Metro from The Craft Kitchen and I'm going to show you how to beat the clock with a few 30 minute recipes that will have to come back into your life and when I say 30 minutes I actually need 30 minutes or less first up is easy beef and broccoli\n",
      "19 I'm going to get the water going for the rice first so now this is really hot and\n",
      "20 ready to put my beef in yeah listen to that the one thing that these kind of beef strips if you don't want to crowd the pan if it's private and they don't get the opportunity to get brown and kind of seeing themselves\n",
      "21 can I add my poison sauce and I'm going to add some Catalina dressing to it and what's nice is the combination of the Catalina dressing and the voice and sauce just it's a beaut\n",
      "22 then I'm going to add in the ginger I'm going to check on the rice the rice is perfectly done\n",
      "23 now doesn't that look delicious it was my time I told you I could do it in less than 30 minutes next stop is an incredibly easy chicken and stuffing dinner for when you just feel like having some comfort food and it's called our stove top one dish Chicken skillet\n",
      "24 I'm going to add some hot water and\n",
      "25 moisten up my stuffing mix and I think it's time to flip my check and sour cream in soup make a beautiful mixture\n",
      "26 it's going to taste so yummy right on top of the chicken now put some stove top on top of the soup mixture and honestly what could be better than these two together and now I'm just going to cover it and let it all come together\n"
     ]
    }
   ],
   "source": [
    "translate(\"/Users/Arvi/youtube/recipes/audio/\",18)"
   ]
  },
  {
   "cell_type": "code",
   "execution_count": null,
   "metadata": {
    "collapsed": true
   },
   "outputs": [],
   "source": []
  }
 ],
 "metadata": {
  "kernelspec": {
   "display_name": "Python 2",
   "language": "python",
   "name": "python2"
  },
  "language_info": {
   "codemirror_mode": {
    "name": "ipython",
    "version": 2
   },
   "file_extension": ".py",
   "mimetype": "text/x-python",
   "name": "python",
   "nbconvert_exporter": "python",
   "pygments_lexer": "ipython2",
   "version": "2.7.8"
  }
 },
 "nbformat": 4,
 "nbformat_minor": 0
}
